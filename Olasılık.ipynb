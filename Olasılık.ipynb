{
 "cells": [
  {
   "cell_type": "markdown",
   "metadata": {},
   "source": [
    "## A şirketinin sattığı bilgisayarın bazılarının bozuk olduğu tespit edilmiştir. Bilgisyar üreten 3 şirket (A, B ve C) olduğunu varsayımı altında, bu şirketlerin bilgisayar üretim miktarı ve bozuk üretim olasılıkları şu şekildedir:\n",
    "\n",
    "Toplam Üretim Yüzdesi P(A)=0.40 P(B)=0.40 P(C)=0.20\n",
    "\n",
    "Hatalı Üretim Olasılığı\n",
    "\n",
    "P(D|A)=0.015 P(D|B)=0.020 P(D|C)=0.010\n",
    "\n",
    "Rastgele seçilen bir bozuk bir bilgisayarın B şirketi tarafından üretilme olasılığı nedir?"
   ]
  },
  {
   "cell_type": "code",
   "execution_count": 1,
   "metadata": {},
   "outputs": [
    {
     "data": {
      "text/plain": [
       "0.17777777777777776"
      ]
     },
     "execution_count": 1,
     "metadata": {},
     "output_type": "execute_result"
    }
   ],
   "source": [
    "#Çözüm olarak seçilen bilgisayarın b şirketinden olma ihtimali ile b şirketinin hatalı bilgisayar üretme ihtimalini çarpmamız ve bu çarpımı, toplam hatalı bilgisayar üretim ihtimaline bölmemiz gerekir.\n",
    "\n",
    "#Seçilen bilgisayarın B ye ait olma olasılığı ve hatalı üretim olma olasılığı\n",
    "p_B = 0.4\n",
    "p_DB = 0.02\n",
    "\n",
    "#Toplam hatalı bilgisayar seçilme olasılığı\n",
    "p_D = 0.015 + 0.020 + 0.010\n",
    "\n",
    "#Sonuç\n",
    "\n",
    "p_B * p_DB/p_D\n",
    "\n"
   ]
  },
  {
   "cell_type": "code",
   "execution_count": 3,
   "metadata": {},
   "outputs": [
    {
     "name": "stdout",
     "output_type": "stream",
     "text": [
      "Seçilen bozuk bir bilgisayarın B şirketi tarafından üretilme ihtimali 0.17777777777777776 \n"
     ]
    }
   ],
   "source": [
    "print(\"Seçilen bozuk bir bilgisayarın B şirketi tarafından üretilme ihtimali {} \".format(p_B * p_DB/p_D))"
   ]
  },
  {
   "cell_type": "code",
   "execution_count": null,
   "metadata": {},
   "outputs": [],
   "source": []
  }
 ],
 "metadata": {
  "kernelspec": {
   "display_name": "Python 3",
   "language": "python",
   "name": "python3"
  },
  "language_info": {
   "codemirror_mode": {
    "name": "ipython",
    "version": 3
   },
   "file_extension": ".py",
   "mimetype": "text/x-python",
   "name": "python",
   "nbconvert_exporter": "python",
   "pygments_lexer": "ipython3",
   "version": "3.8.5"
  }
 },
 "nbformat": 4,
 "nbformat_minor": 4
}
